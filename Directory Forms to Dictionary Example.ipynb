{
 "cells": [
  {
   "cell_type": "code",
   "execution_count": 1,
   "id": "9fb9a72e-16b0-4868-8269-734714729aeb",
   "metadata": {},
   "outputs": [
    {
     "name": "stdin",
     "output_type": "stream",
     "text": [
      "Directory Name. If current directory use . or ./ ./\n"
     ]
    }
   ],
   "source": [
    "import os\n",
    "directory = str(input(\"Directory Name. If current directory use . or ./\"))"
   ]
  },
  {
   "cell_type": "code",
   "execution_count": 3,
   "id": "87ba2e7c-3588-4eb0-8a77-106a6c2d3f02",
   "metadata": {},
   "outputs": [],
   "source": [
    "for filename in os.listdir(directory):\n",
    "    if \".json\" in filename:\n",
    "        with open(filename, 'r', encoding=\"utf-8\", errors='replace') as form:\n",
    "            lines = form.readlines()\n",
    "            lines = [s.strip(\" \\t\") for s in lines]\n",
    "            lines = [s.replace(\"≥\",\">=\").replace(\"≤\",\"<=\") for s in lines]\n",
    "        newfile = \"dict_\" + filename.replace(\".json\",\".csv\")\n",
    "        with open(newfile, 'w') as new_file:\n",
    "            for line in lines:\n",
    "                if '\"label\":' in line:\n",
    "                    new_file.writelines(line)\n",
    "                elif '\"key\":' in line:\n",
    "                    new_file.writelines(line)\n",
    "                elif '\"type\":' in line:\n",
    "                    new_file.writelines(line)\n",
    "                elif '\"value\":' in line:\n",
    "                    new_file.writelines(line)\n"
   ]
  },
  {
   "cell_type": "code",
   "execution_count": 5,
   "id": "b5322349-8301-448c-90cf-58c7217e4868",
   "metadata": {},
   "outputs": [
    {
     "name": "stdout",
     "output_type": "stream",
     "text": [
      "dict_Activity 10 - Survey 1 - Reporter.csv\n",
      "dict_Activity 11 - Survey 2 - ALSFRS-RSE for Person Diagnosed ALS or MND.csv\n",
      "dict_Activity 12 - Survey 2 - CBFS for Person Diagnosed - All except ALS and MND.csv\n",
      "dict_Activity 13 - Survey 2 - ALSFRS-RSE for LAR - ALS or MND.csv\n",
      "dict_Activity 14 - Survey 2 - CBFS for LAR - All except ALS and MND.csv\n",
      "dict_Activity 18 - Survey 4 for Person Diagnosed.csv\n",
      "dict_Activity 19 - Survey 4 for LAR.csv\n",
      "dict_Activity 20 - Survey 4 for Current Caregiver and Reporter.csv\n",
      "dict_Activity 21 - Survey 4 for Former Caregiver.csv\n",
      "dict_Activity 22 - Survey 5 for Person Diagnosed.csv\n",
      "dict_Activity 23 - Survey 5 for LAR.csv\n",
      "dict_Activity 24 - Survey 5 for Biological Relative.csv\n",
      "dict_Activity 25 - Survey 5 for Current Caregivers, Former Caregivers & Reporters.csv\n",
      "dict_Activity 26 - Survey 6 for Person Diagnosed.csv\n",
      "dict_Activity 27 - Survey 6 for LAR.csv\n",
      "dict_Activity 28 - Survey 6 for Biological Relative.csv\n",
      "dict_Activity 29 - Survey 6 for Current Caregivers.csv\n",
      "dict_Activity 30 - Survey 6 for Former Caregivers.csv\n",
      "dict_Activity 31 - Survey 6 for Reporters.csv\n",
      "dict_Activity 32 - Autopsy Report for Proxy.csv\n",
      "dict_Activity 34 - Genetic Testing Results for Self.csv\n",
      "dict_Activity 35 - Genetic Testing Results for LAR.csv\n",
      "dict_Activity 38 - ALLFTD Follow-up Survey for ALLFTD.csv\n",
      "dict_Activity 38 - ALLFTD Follow-up Survey.csv\n",
      "dict_Activity 39 - Tell us about your Participation in the NSP Study for ALLFTD.csv\n",
      "dict_Activity 40 - Thank you for Participating in the NSP Study for ALLFTD.csv\n",
      "dict_Activity 41 - Thank You! Tell us about your NSP Study Participation for ALLFTD.csv\n",
      "dict_Activity 42 - ALLFTD Enrollment Survey for ALLFTD.csv\n",
      "dict_Activity 43 - FAQ for Proxy.csv\n",
      "dict_Activity 5 - Survey 1 - Person Diagnosed.csv\n",
      "dict_Activity 6 - Survey 1 - LAR.csv\n",
      "dict_Activity 7 - Survey 1 - Biological Relative.csv\n",
      "dict_Activity 8 - Survey 1 - Current Caregiver.csv\n",
      "dict_Activity 9 - Survey 1 - Former Caregiver.csv\n",
      "dict_Brain Autopsy eCRF.csv\n",
      "dict_Feedback_form.csv\n",
      "dict_Genetic Testing eCRF Form.csv\n"
     ]
    }
   ],
   "source": [
    "for filename in os.listdir(directory):\n",
    "    if \"dict_\" in filename:\n",
    "        print(filename)"
   ]
  },
  {
   "cell_type": "code",
   "execution_count": null,
   "id": "7a2cd6ce-5e6c-4842-a0e3-28f77c58bcb5",
   "metadata": {},
   "outputs": [],
   "source": []
  }
 ],
 "metadata": {
  "kernelspec": {
   "display_name": "Python [conda env:base] *",
   "language": "python",
   "name": "conda-base-py"
  },
  "language_info": {
   "codemirror_mode": {
    "name": "ipython",
    "version": 3
   },
   "file_extension": ".py",
   "mimetype": "text/x-python",
   "name": "python",
   "nbconvert_exporter": "python",
   "pygments_lexer": "ipython3",
   "version": "3.12.7"
  }
 },
 "nbformat": 4,
 "nbformat_minor": 5
}
